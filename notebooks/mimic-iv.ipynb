{
 "cells": [
  {
   "cell_type": "code",
   "execution_count": 1,
   "metadata": {},
   "outputs": [],
   "source": [
    "from PIL import Image\n",
    "import numpy as np\n",
    "import pandas as pd\n",
    "from glob import glob\n",
    "from tqdm import tqdm\n",
    "from pathlib import Path\n",
    "import os\n",
    "\n",
    "import seaborn as sns\n",
    "\n",
    "import matplotlib.pyplot as plt\n",
    "import gzip"
   ]
  },
  {
   "cell_type": "markdown",
   "metadata": {},
   "source": [
    "# MIMIC CXR patients"
   ]
  },
  {
   "cell_type": "code",
   "execution_count": 3,
   "metadata": {},
   "outputs": [
    {
     "name": "stdout",
     "output_type": "stream",
     "text": [
      "files\t     mimic-cxr-2.0.0-chexpert.csv.gz  README\n",
      "index.html   mimic-cxr-2.0.0-metadata.csv.gz  SHA256SUMS.txt\n",
      "LICENSE.txt  mimic-cxr-2.0.0-negbio.csv.gz\n"
     ]
    }
   ],
   "source": [
    "cxr_root = Path('../../datasets/physionet.org/files/mimic-cxr-jpg/2.0.0/')\n",
    "! ls $cxr_root"
   ]
  },
  {
   "cell_type": "code",
   "execution_count": 12,
   "metadata": {},
   "outputs": [],
   "source": [
    "cxr_df = pd.read_csv(cxr_root / 'mimic-cxr-2.0.0-metadata.csv.gz', header=0, sep=',')"
   ]
  },
  {
   "cell_type": "code",
   "execution_count": 244,
   "metadata": {},
   "outputs": [
    {
     "name": "stdout",
     "output_type": "stream",
     "text": [
      "total cxr patients: 65379\n"
     ]
    }
   ],
   "source": [
    "cxr_df = pd.read_csv(cxr_root / 'cxr-study-list.csv.gz', header=0, sep=',')\n",
    "cxr = pd.DataFrame({'subject_id': cxr_df['subject_id'].unique()})\n",
    "print(f'total cxr patients: {len(cxr)}')"
   ]
  },
  {
   "cell_type": "markdown",
   "metadata": {},
   "source": [
    "# MIMIC IV"
   ]
  },
  {
   "cell_type": "code",
   "execution_count": 119,
   "metadata": {},
   "outputs": [],
   "source": [
    "root = Path('../../datasets/physionet.org/files/mimiciv/0.4/')\n",
    "core = root / 'core'\n",
    "hosp = root / 'hosp'\n",
    "icu = root / 'icu'"
   ]
  },
  {
   "cell_type": "code",
   "execution_count": 120,
   "metadata": {},
   "outputs": [
    {
     "name": "stdout",
     "output_type": "stream",
     "text": [
      "admissions.csv.gz  index.html  patients.csv.gz\ttransfers.csv.gz\n"
     ]
    }
   ],
   "source": [
    "! ls $core"
   ]
  },
  {
   "cell_type": "markdown",
   "metadata": {},
   "source": [
    "## patient data"
   ]
  },
  {
   "cell_type": "code",
   "execution_count": 126,
   "metadata": {},
   "outputs": [
    {
     "data": {
      "text/plain": [
       "['subject_id',\n",
       " 'gender',\n",
       " 'anchor_age',\n",
       " 'anchor_year',\n",
       " 'anchor_year_group',\n",
       " 'dod']"
      ]
     },
     "execution_count": 126,
     "metadata": {},
     "output_type": "execute_result"
    }
   ],
   "source": [
    "patient_df = pd.read_csv(core / 'patients.csv.gz', header=0, sep=',').merge(cxr)\n",
    "list(patient_df.keys())"
   ]
  },
  {
   "cell_type": "code",
   "execution_count": 128,
   "metadata": {},
   "outputs": [
    {
     "data": {
      "text/html": [
       "<div>\n",
       "<style scoped>\n",
       "    .dataframe tbody tr th:only-of-type {\n",
       "        vertical-align: middle;\n",
       "    }\n",
       "\n",
       "    .dataframe tbody tr th {\n",
       "        vertical-align: top;\n",
       "    }\n",
       "\n",
       "    .dataframe thead th {\n",
       "        text-align: right;\n",
       "    }\n",
       "</style>\n",
       "<table border=\"1\" class=\"dataframe\">\n",
       "  <thead>\n",
       "    <tr style=\"text-align: right;\">\n",
       "      <th></th>\n",
       "      <th>subject_id</th>\n",
       "      <th>gender</th>\n",
       "      <th>anchor_age</th>\n",
       "      <th>anchor_year</th>\n",
       "      <th>anchor_year_group</th>\n",
       "      <th>dod</th>\n",
       "    </tr>\n",
       "  </thead>\n",
       "  <tbody>\n",
       "    <tr>\n",
       "      <th>0</th>\n",
       "      <td>10000764</td>\n",
       "      <td>M</td>\n",
       "      <td>86</td>\n",
       "      <td>2132</td>\n",
       "      <td>2014 - 2016</td>\n",
       "      <td>NaN</td>\n",
       "    </tr>\n",
       "    <tr>\n",
       "      <th>1</th>\n",
       "      <td>10001038</td>\n",
       "      <td>M</td>\n",
       "      <td>20</td>\n",
       "      <td>2149</td>\n",
       "      <td>2014 - 2016</td>\n",
       "      <td>NaN</td>\n",
       "    </tr>\n",
       "    <tr>\n",
       "      <th>2</th>\n",
       "      <td>10003299</td>\n",
       "      <td>F</td>\n",
       "      <td>65</td>\n",
       "      <td>2173</td>\n",
       "      <td>2008 - 2010</td>\n",
       "      <td>NaN</td>\n",
       "    </tr>\n",
       "    <tr>\n",
       "      <th>3</th>\n",
       "      <td>10004235</td>\n",
       "      <td>M</td>\n",
       "      <td>47</td>\n",
       "      <td>2196</td>\n",
       "      <td>2014 - 2016</td>\n",
       "      <td>NaN</td>\n",
       "    </tr>\n",
       "    <tr>\n",
       "      <th>4</th>\n",
       "      <td>10004322</td>\n",
       "      <td>M</td>\n",
       "      <td>60</td>\n",
       "      <td>2131</td>\n",
       "      <td>2011 - 2013</td>\n",
       "      <td>NaN</td>\n",
       "    </tr>\n",
       "    <tr>\n",
       "      <th>...</th>\n",
       "      <td>...</td>\n",
       "      <td>...</td>\n",
       "      <td>...</td>\n",
       "      <td>...</td>\n",
       "      <td>...</td>\n",
       "      <td>...</td>\n",
       "    </tr>\n",
       "    <tr>\n",
       "      <th>65259</th>\n",
       "      <td>19992202</td>\n",
       "      <td>F</td>\n",
       "      <td>80</td>\n",
       "      <td>2153</td>\n",
       "      <td>2014 - 2016</td>\n",
       "      <td>NaN</td>\n",
       "    </tr>\n",
       "    <tr>\n",
       "      <th>65260</th>\n",
       "      <td>19992881</td>\n",
       "      <td>M</td>\n",
       "      <td>37</td>\n",
       "      <td>2137</td>\n",
       "      <td>2008 - 2010</td>\n",
       "      <td>NaN</td>\n",
       "    </tr>\n",
       "    <tr>\n",
       "      <th>65261</th>\n",
       "      <td>19998350</td>\n",
       "      <td>M</td>\n",
       "      <td>52</td>\n",
       "      <td>2127</td>\n",
       "      <td>2011 - 2013</td>\n",
       "      <td>NaN</td>\n",
       "    </tr>\n",
       "    <tr>\n",
       "      <th>65262</th>\n",
       "      <td>19999068</td>\n",
       "      <td>M</td>\n",
       "      <td>63</td>\n",
       "      <td>2161</td>\n",
       "      <td>2011 - 2013</td>\n",
       "      <td>NaN</td>\n",
       "    </tr>\n",
       "    <tr>\n",
       "      <th>65263</th>\n",
       "      <td>19999270</td>\n",
       "      <td>M</td>\n",
       "      <td>33</td>\n",
       "      <td>2184</td>\n",
       "      <td>2014 - 2016</td>\n",
       "      <td>NaN</td>\n",
       "    </tr>\n",
       "  </tbody>\n",
       "</table>\n",
       "<p>65264 rows × 6 columns</p>\n",
       "</div>"
      ],
      "text/plain": [
       "       subject_id gender  anchor_age  anchor_year anchor_year_group  dod\n",
       "0        10000764      M          86         2132       2014 - 2016  NaN\n",
       "1        10001038      M          20         2149       2014 - 2016  NaN\n",
       "2        10003299      F          65         2173       2008 - 2010  NaN\n",
       "3        10004235      M          47         2196       2014 - 2016  NaN\n",
       "4        10004322      M          60         2131       2011 - 2013  NaN\n",
       "...           ...    ...         ...          ...               ...  ...\n",
       "65259    19992202      F          80         2153       2014 - 2016  NaN\n",
       "65260    19992881      M          37         2137       2008 - 2010  NaN\n",
       "65261    19998350      M          52         2127       2011 - 2013  NaN\n",
       "65262    19999068      M          63         2161       2011 - 2013  NaN\n",
       "65263    19999270      M          33         2184       2014 - 2016  NaN\n",
       "\n",
       "[65264 rows x 6 columns]"
      ]
     },
     "execution_count": 128,
     "metadata": {},
     "output_type": "execute_result"
    }
   ],
   "source": [
    "patient_df"
   ]
  },
  {
   "cell_type": "code",
   "execution_count": 129,
   "metadata": {},
   "outputs": [
    {
     "data": {
      "image/png": "[encoded data removed]",
      "text/plain": [
       "<Figure size 432x288 with 1 Axes>"
      ]
     },
     "metadata": {
      "needs_background": "light"
     },
     "output_type": "display_data"
    },
    {
     "data": {
      "image/png": "[encoded data removed]",
      "text/plain": [
       "<Figure size 432x288 with 1 Axes>"
      ]
     },
     "metadata": {},
     "output_type": "display_data"
    }
   ],
   "source": [
    "# age dist\n",
    "patient_df.anchor_age.plot.hist(bins=25)\n",
    "plt.show()\n",
    "# sex dist\n",
    "patient_df.gender.value_counts().plot.pie();"
   ]
  },
  {
   "cell_type": "markdown",
   "metadata": {},
   "source": [
    "## admission data"
   ]
  },
  {
   "cell_type": "code",
   "execution_count": 130,
   "metadata": {},
   "outputs": [
    {
     "data": {
      "text/plain": [
       "['subject_id',\n",
       " 'hadm_id',\n",
       " 'admittime',\n",
       " 'dischtime',\n",
       " 'deathtime',\n",
       " 'admission_type',\n",
       " 'admission_location',\n",
       " 'discharge_location',\n",
       " 'insurance',\n",
       " 'language',\n",
       " 'marital_status',\n",
       " 'ethnicity',\n",
       " 'edregtime',\n",
       " 'edouttime',\n",
       " 'hospital_expire_flag']"
      ]
     },
     "execution_count": 130,
     "metadata": {},
     "output_type": "execute_result"
    }
   ],
   "source": [
    "admission_df = pd.read_csv(core / 'admissions.csv.gz', header=0, sep=',').merge(cxr)\n",
    "list(admission_df.keys())"
   ]
  },
  {
   "cell_type": "code",
   "execution_count": 136,
   "metadata": {},
   "outputs": [
    {
     "data": {
      "text/html": [
       "<div>\n",
       "<style scoped>\n",
       "    .dataframe tbody tr th:only-of-type {\n",
       "        vertical-align: middle;\n",
       "    }\n",
       "\n",
       "    .dataframe tbody tr th {\n",
       "        vertical-align: top;\n",
       "    }\n",
       "\n",
       "    .dataframe thead th {\n",
       "        text-align: right;\n",
       "    }\n",
       "</style>\n",
       "<table border=\"1\" class=\"dataframe\">\n",
       "  <thead>\n",
       "    <tr style=\"text-align: right;\">\n",
       "      <th></th>\n",
       "      <th>subject_id</th>\n",
       "      <th>hadm_id</th>\n",
       "      <th>admittime</th>\n",
       "      <th>dischtime</th>\n",
       "      <th>deathtime</th>\n",
       "      <th>admission_type</th>\n",
       "      <th>admission_location</th>\n",
       "      <th>discharge_location</th>\n",
       "      <th>insurance</th>\n",
       "      <th>language</th>\n",
       "      <th>marital_status</th>\n",
       "      <th>ethnicity</th>\n",
       "      <th>edregtime</th>\n",
       "      <th>edouttime</th>\n",
       "      <th>hospital_expire_flag</th>\n",
       "    </tr>\n",
       "  </thead>\n",
       "  <tbody>\n",
       "    <tr>\n",
       "      <th>0</th>\n",
       "      <td>13831972</td>\n",
       "      <td>27763544</td>\n",
       "      <td>2131-01-27 04:03:00</td>\n",
       "      <td>2131-01-27 05:39:00</td>\n",
       "      <td>NaN</td>\n",
       "      <td>EU OBSERVATION</td>\n",
       "      <td>EMERGENCY ROOM</td>\n",
       "      <td>NaN</td>\n",
       "      <td>Medicaid</td>\n",
       "      <td>ENGLISH</td>\n",
       "      <td>SINGLE</td>\n",
       "      <td>WHITE</td>\n",
       "      <td>2131-01-26 22:19:00</td>\n",
       "      <td>2131-01-27 05:39:00</td>\n",
       "      <td>0</td>\n",
       "    </tr>\n",
       "    <tr>\n",
       "      <th>1</th>\n",
       "      <td>13831972</td>\n",
       "      <td>20914383</td>\n",
       "      <td>2133-03-24 01:12:00</td>\n",
       "      <td>2133-03-24 11:18:00</td>\n",
       "      <td>NaN</td>\n",
       "      <td>EU OBSERVATION</td>\n",
       "      <td>EMERGENCY ROOM</td>\n",
       "      <td>NaN</td>\n",
       "      <td>Medicaid</td>\n",
       "      <td>ENGLISH</td>\n",
       "      <td>SINGLE</td>\n",
       "      <td>WHITE</td>\n",
       "      <td>2133-03-23 17:14:00</td>\n",
       "      <td>2133-03-24 02:18:00</td>\n",
       "      <td>0</td>\n",
       "    </tr>\n",
       "    <tr>\n",
       "      <th>2</th>\n",
       "      <td>13831972</td>\n",
       "      <td>28118473</td>\n",
       "      <td>2134-04-23 19:49:00</td>\n",
       "      <td>2134-04-24 14:00:00</td>\n",
       "      <td>NaN</td>\n",
       "      <td>EU OBSERVATION</td>\n",
       "      <td>EMERGENCY ROOM</td>\n",
       "      <td>NaN</td>\n",
       "      <td>Medicaid</td>\n",
       "      <td>ENGLISH</td>\n",
       "      <td>SINGLE</td>\n",
       "      <td>WHITE</td>\n",
       "      <td>2134-04-23 15:38:00</td>\n",
       "      <td>2134-04-23 20:30:00</td>\n",
       "      <td>0</td>\n",
       "    </tr>\n",
       "    <tr>\n",
       "      <th>3</th>\n",
       "      <td>13831972</td>\n",
       "      <td>27117659</td>\n",
       "      <td>2131-07-11 01:26:00</td>\n",
       "      <td>2131-07-11 13:52:00</td>\n",
       "      <td>NaN</td>\n",
       "      <td>EU OBSERVATION</td>\n",
       "      <td>EMERGENCY ROOM</td>\n",
       "      <td>NaN</td>\n",
       "      <td>Medicaid</td>\n",
       "      <td>ENGLISH</td>\n",
       "      <td>SINGLE</td>\n",
       "      <td>WHITE</td>\n",
       "      <td>2131-07-10 16:59:00</td>\n",
       "      <td>2131-07-11 02:40:00</td>\n",
       "      <td>0</td>\n",
       "    </tr>\n",
       "    <tr>\n",
       "      <th>4</th>\n",
       "      <td>13831972</td>\n",
       "      <td>22890331</td>\n",
       "      <td>2131-06-04 00:21:00</td>\n",
       "      <td>2131-06-05 11:38:00</td>\n",
       "      <td>NaN</td>\n",
       "      <td>EU OBSERVATION</td>\n",
       "      <td>EMERGENCY ROOM</td>\n",
       "      <td>NaN</td>\n",
       "      <td>Medicaid</td>\n",
       "      <td>ENGLISH</td>\n",
       "      <td>SINGLE</td>\n",
       "      <td>WHITE</td>\n",
       "      <td>2131-06-03 17:47:00</td>\n",
       "      <td>2131-06-04 01:47:00</td>\n",
       "      <td>0</td>\n",
       "    </tr>\n",
       "  </tbody>\n",
       "</table>\n",
       "</div>"
      ],
      "text/plain": [
       "   subject_id   hadm_id            admittime            dischtime deathtime  \\\n",
       "0    13831972  27763544  2131-01-27 04:03:00  2131-01-27 05:39:00       NaN   \n",
       "1    13831972  20914383  2133-03-24 01:12:00  2133-03-24 11:18:00       NaN   \n",
       "2    13831972  28118473  2134-04-23 19:49:00  2134-04-24 14:00:00       NaN   \n",
       "3    13831972  27117659  2131-07-11 01:26:00  2131-07-11 13:52:00       NaN   \n",
       "4    13831972  22890331  2131-06-04 00:21:00  2131-06-05 11:38:00       NaN   \n",
       "\n",
       "   admission_type admission_location discharge_location insurance language  \\\n",
       "0  EU OBSERVATION     EMERGENCY ROOM                NaN  Medicaid  ENGLISH   \n",
       "1  EU OBSERVATION     EMERGENCY ROOM                NaN  Medicaid  ENGLISH   \n",
       "2  EU OBSERVATION     EMERGENCY ROOM                NaN  Medicaid  ENGLISH   \n",
       "3  EU OBSERVATION     EMERGENCY ROOM                NaN  Medicaid  ENGLISH   \n",
       "4  EU OBSERVATION     EMERGENCY ROOM                NaN  Medicaid  ENGLISH   \n",
       "\n",
       "  marital_status ethnicity            edregtime            edouttime  \\\n",
       "0         SINGLE     WHITE  2131-01-26 22:19:00  2131-01-27 05:39:00   \n",
       "1         SINGLE     WHITE  2133-03-23 17:14:00  2133-03-24 02:18:00   \n",
       "2         SINGLE     WHITE  2134-04-23 15:38:00  2134-04-23 20:30:00   \n",
       "3         SINGLE     WHITE  2131-07-10 16:59:00  2131-07-11 02:40:00   \n",
       "4         SINGLE     WHITE  2131-06-03 17:47:00  2131-06-04 01:47:00   \n",
       "\n",
       "   hospital_expire_flag  \n",
       "0                     0  \n",
       "1                     0  \n",
       "2                     0  \n",
       "3                     0  \n",
       "4                     0  "
      ]
     },
     "execution_count": 136,
     "metadata": {},
     "output_type": "execute_result"
    }
   ],
   "source": [
    "admission_df.head()"
   ]
  },
  {
   "cell_type": "code",
   "execution_count": 135,
   "metadata": {},
   "outputs": [
    {
     "data": {
      "text/plain": [
       "54134"
      ]
     },
     "execution_count": 135,
     "metadata": {},
     "output_type": "execute_result"
    }
   ],
   "source": [
    "len(admission_df.subject_id.unique())"
   ]
  },
  {
   "cell_type": "code",
   "execution_count": 132,
   "metadata": {},
   "outputs": [
    {
     "data": {
      "image/png": "[encoded data removed]",
      "text/plain": [
       "<Figure size 504x504 with 1 Axes>"
      ]
     },
     "metadata": {},
     "output_type": "display_data"
    }
   ],
   "source": [
    "admission_df.ethnicity.value_counts().plot.pie(figsize=(7, 7));"
   ]
  },
  {
   "cell_type": "markdown",
   "metadata": {},
   "source": [
    "## Transfer"
   ]
  },
  {
   "cell_type": "code",
   "execution_count": 137,
   "metadata": {},
   "outputs": [],
   "source": [
    "transfer_df = pd.read_csv(core / 'transfers.csv.gz', header=0, sep=',').merge(cxr)"
   ]
  },
  {
   "cell_type": "code",
   "execution_count": 138,
   "metadata": {},
   "outputs": [
    {
     "data": {
      "text/html": [
       "<div>\n",
       "<style scoped>\n",
       "    .dataframe tbody tr th:only-of-type {\n",
       "        vertical-align: middle;\n",
       "    }\n",
       "\n",
       "    .dataframe tbody tr th {\n",
       "        vertical-align: top;\n",
       "    }\n",
       "\n",
       "    .dataframe thead th {\n",
       "        text-align: right;\n",
       "    }\n",
       "</style>\n",
       "<table border=\"1\" class=\"dataframe\">\n",
       "  <thead>\n",
       "    <tr style=\"text-align: right;\">\n",
       "      <th></th>\n",
       "      <th>subject_id</th>\n",
       "      <th>hadm_id</th>\n",
       "      <th>transfer_id</th>\n",
       "      <th>eventtype</th>\n",
       "      <th>careunit</th>\n",
       "      <th>intime</th>\n",
       "      <th>outtime</th>\n",
       "    </tr>\n",
       "  </thead>\n",
       "  <tbody>\n",
       "    <tr>\n",
       "      <th>0</th>\n",
       "      <td>14667207</td>\n",
       "      <td>25131874.0</td>\n",
       "      <td>32319053</td>\n",
       "      <td>discharge</td>\n",
       "      <td>NaN</td>\n",
       "      <td>2152-12-01 16:52:15</td>\n",
       "      <td>NaN</td>\n",
       "    </tr>\n",
       "    <tr>\n",
       "      <th>1</th>\n",
       "      <td>14667207</td>\n",
       "      <td>26847855.0</td>\n",
       "      <td>33260165</td>\n",
       "      <td>discharge</td>\n",
       "      <td>NaN</td>\n",
       "      <td>2161-01-15 22:23:15</td>\n",
       "      <td>NaN</td>\n",
       "    </tr>\n",
       "    <tr>\n",
       "      <th>2</th>\n",
       "      <td>14667207</td>\n",
       "      <td>25131874.0</td>\n",
       "      <td>37122656</td>\n",
       "      <td>admit</td>\n",
       "      <td>Coronary Care Unit (CCU)</td>\n",
       "      <td>2152-11-29 11:25:50</td>\n",
       "      <td>2152-11-30 11:57:35</td>\n",
       "    </tr>\n",
       "    <tr>\n",
       "      <th>3</th>\n",
       "      <td>14667207</td>\n",
       "      <td>25131874.0</td>\n",
       "      <td>38878700</td>\n",
       "      <td>transfer</td>\n",
       "      <td>Medicine/Cardiology</td>\n",
       "      <td>2152-11-30 11:57:35</td>\n",
       "      <td>2152-12-01 16:52:15</td>\n",
       "    </tr>\n",
       "    <tr>\n",
       "      <th>4</th>\n",
       "      <td>14667207</td>\n",
       "      <td>26847855.0</td>\n",
       "      <td>31152339</td>\n",
       "      <td>ED</td>\n",
       "      <td>Emergency Department</td>\n",
       "      <td>2161-01-07 10:43:00</td>\n",
       "      <td>2161-01-07 13:22:00</td>\n",
       "    </tr>\n",
       "  </tbody>\n",
       "</table>\n",
       "</div>"
      ],
      "text/plain": [
       "   subject_id     hadm_id  transfer_id  eventtype                  careunit  \\\n",
       "0    14667207  25131874.0     32319053  discharge                       NaN   \n",
       "1    14667207  26847855.0     33260165  discharge                       NaN   \n",
       "2    14667207  25131874.0     37122656      admit  Coronary Care Unit (CCU)   \n",
       "3    14667207  25131874.0     38878700   transfer       Medicine/Cardiology   \n",
       "4    14667207  26847855.0     31152339         ED      Emergency Department   \n",
       "\n",
       "                intime              outtime  \n",
       "0  2152-12-01 16:52:15                  NaN  \n",
       "1  2161-01-15 22:23:15                  NaN  \n",
       "2  2152-11-29 11:25:50  2152-11-30 11:57:35  \n",
       "3  2152-11-30 11:57:35  2152-12-01 16:52:15  \n",
       "4  2161-01-07 10:43:00  2161-01-07 13:22:00  "
      ]
     },
     "execution_count": 138,
     "metadata": {},
     "output_type": "execute_result"
    }
   ],
   "source": [
    "transfer_df.head()"
   ]
  },
  {
   "cell_type": "markdown",
   "metadata": {},
   "source": [
    "## Diagnosis and DRG codes"
   ]
  },
  {
   "cell_type": "code",
   "execution_count": 217,
   "metadata": {},
   "outputs": [
    {
     "name": "stdout",
     "output_type": "stream",
     "text": [
      "total 4.2G\n",
      "-rw------- 1 vahid rahulgkgrp 420K Aug 13  2020 d_hcpcs.csv.gz\n",
      "-rw------- 1 vahid rahulgkgrp  26M Aug 13  2020 diagnoses_icd.csv.gz\n",
      "-rw------- 1 vahid rahulgkgrp 707K Aug 13  2020 d_icd_diagnoses.csv.gz\n",
      "-rw------- 1 vahid rahulgkgrp 552K Aug 13  2020 d_icd_procedures.csv.gz\n",
      "-rw------- 1 vahid rahulgkgrp  15K Aug 13  2020 d_labitems.csv.gz\n",
      "-rw------- 1 vahid rahulgkgrp  13M Aug 13  2020 drgcodes.csv.gz\n",
      "-rw------- 1 vahid rahulgkgrp 495M Aug 13  2020 emar.csv.gz\n",
      "-rw------- 1 vahid rahulgkgrp 458M Aug 13  2020 emar_detail.csv.gz\n",
      "-rw------- 1 vahid rahulgkgrp 1.4M Aug 13  2020 hcpcsevents.csv.gz\n",
      "-rw------- 1 vahid rahulgkgrp 2.3K Oct 21 22:32 index.html\n",
      "-rw------- 1 vahid rahulgkgrp 2.0G Aug 13  2020 labevents.csv.gz\n",
      "-rw------- 1 vahid rahulgkgrp  16M Aug 13  2020 microbiologyevents.csv.gz\n",
      "-rw------- 1 vahid rahulgkgrp 404M Aug 13  2020 pharmacy.csv.gz\n",
      "-rw------- 1 vahid rahulgkgrp 479M Aug 13  2020 poe.csv.gz\n",
      "-rw------- 1 vahid rahulgkgrp  23M Aug 13  2020 poe_detail.csv.gz\n",
      "-rw------- 1 vahid rahulgkgrp 351M Aug 13  2020 prescriptions.csv.gz\n",
      "-rw------- 1 vahid rahulgkgrp 4.8M Aug 13  2020 procedures_icd.csv.gz\n",
      "-rw------- 1 vahid rahulgkgrp 9.2M Aug 13  2020 services.csv.gz\n"
     ]
    }
   ],
   "source": [
    "! ls -lh $hosp\n",
    "# d_hcpcs.csv.gz, d_icd_diagnoses.csv.gz, d_icd_procedures.csv.gz --> CPT/ICD codes\n",
    "# d_labitems.csv.gz --> description of lab values"
   ]
  },
  {
   "cell_type": "code",
   "execution_count": 151,
   "metadata": {},
   "outputs": [],
   "source": [
    "icd = pd.read_csv(hosp / 'diagnoses_icd.csv.gz', header=0, sep=',').merge(cxr)"
   ]
  },
  {
   "cell_type": "code",
   "execution_count": 185,
   "metadata": {},
   "outputs": [
    {
     "name": "stdout",
     "output_type": "stream",
     "text": [
      "patients with cxr: 53576\n"
     ]
    },
    {
     "data": {
      "text/html": [
       "<div>\n",
       "<style scoped>\n",
       "    .dataframe tbody tr th:only-of-type {\n",
       "        vertical-align: middle;\n",
       "    }\n",
       "\n",
       "    .dataframe tbody tr th {\n",
       "        vertical-align: top;\n",
       "    }\n",
       "\n",
       "    .dataframe thead th {\n",
       "        text-align: right;\n",
       "    }\n",
       "</style>\n",
       "<table border=\"1\" class=\"dataframe\">\n",
       "  <thead>\n",
       "    <tr style=\"text-align: right;\">\n",
       "      <th></th>\n",
       "      <th>subject_id</th>\n",
       "      <th>hadm_id</th>\n",
       "      <th>seq_num</th>\n",
       "      <th>icd_code</th>\n",
       "      <th>icd_version</th>\n",
       "    </tr>\n",
       "  </thead>\n",
       "  <tbody>\n",
       "    <tr>\n",
       "      <th>0</th>\n",
       "      <td>11603789</td>\n",
       "      <td>25552978</td>\n",
       "      <td>3</td>\n",
       "      <td>65801</td>\n",
       "      <td>9</td>\n",
       "    </tr>\n",
       "    <tr>\n",
       "      <th>1</th>\n",
       "      <td>11603789</td>\n",
       "      <td>25552978</td>\n",
       "      <td>4</td>\n",
       "      <td>64881</td>\n",
       "      <td>9</td>\n",
       "    </tr>\n",
       "    <tr>\n",
       "      <th>2</th>\n",
       "      <td>11603789</td>\n",
       "      <td>25552978</td>\n",
       "      <td>5</td>\n",
       "      <td>V270</td>\n",
       "      <td>9</td>\n",
       "    </tr>\n",
       "    <tr>\n",
       "      <th>3</th>\n",
       "      <td>11603789</td>\n",
       "      <td>25552978</td>\n",
       "      <td>1</td>\n",
       "      <td>65221</td>\n",
       "      <td>9</td>\n",
       "    </tr>\n",
       "    <tr>\n",
       "      <th>4</th>\n",
       "      <td>11603789</td>\n",
       "      <td>25552978</td>\n",
       "      <td>2</td>\n",
       "      <td>64421</td>\n",
       "      <td>9</td>\n",
       "    </tr>\n",
       "  </tbody>\n",
       "</table>\n",
       "</div>"
      ],
      "text/plain": [
       "   subject_id   hadm_id  seq_num icd_code  icd_version\n",
       "0    11603789  25552978        3  65801              9\n",
       "1    11603789  25552978        4  64881              9\n",
       "2    11603789  25552978        5  V270               9\n",
       "3    11603789  25552978        1  65221              9\n",
       "4    11603789  25552978        2  64421              9"
      ]
     },
     "execution_count": 185,
     "metadata": {},
     "output_type": "execute_result"
    }
   ],
   "source": [
    "print(f'patients with cxr: {len(icd.subject_id.unique())}')\n",
    "icd.head()"
   ]
  },
  {
   "cell_type": "code",
   "execution_count": 188,
   "metadata": {},
   "outputs": [],
   "source": [
    "# primary reason for hospitalization\n",
    "drg = pd.read_csv(hosp / 'drgcodes.csv.gz', header=0, sep=',').merge(cxr).drop_duplicates()"
   ]
  },
  {
   "cell_type": "code",
   "execution_count": 189,
   "metadata": {},
   "outputs": [
    {
     "data": {
      "text/html": [
       "<div>\n",
       "<style scoped>\n",
       "    .dataframe tbody tr th:only-of-type {\n",
       "        vertical-align: middle;\n",
       "    }\n",
       "\n",
       "    .dataframe tbody tr th {\n",
       "        vertical-align: top;\n",
       "    }\n",
       "\n",
       "    .dataframe thead th {\n",
       "        text-align: right;\n",
       "    }\n",
       "</style>\n",
       "<table border=\"1\" class=\"dataframe\">\n",
       "  <thead>\n",
       "    <tr style=\"text-align: right;\">\n",
       "      <th></th>\n",
       "      <th>subject_id</th>\n",
       "      <th>hadm_id</th>\n",
       "      <th>drg_type</th>\n",
       "      <th>drg_code</th>\n",
       "      <th>description</th>\n",
       "      <th>drg_severity</th>\n",
       "      <th>drg_mortality</th>\n",
       "    </tr>\n",
       "  </thead>\n",
       "  <tbody>\n",
       "    <tr>\n",
       "      <th>0</th>\n",
       "      <td>11603789</td>\n",
       "      <td>25552978</td>\n",
       "      <td>APR</td>\n",
       "      <td>5402</td>\n",
       "      <td>Cesarean Delivery</td>\n",
       "      <td>2.0</td>\n",
       "      <td>1.0</td>\n",
       "    </tr>\n",
       "    <tr>\n",
       "      <th>2</th>\n",
       "      <td>11603789</td>\n",
       "      <td>25552978</td>\n",
       "      <td>HCFA</td>\n",
       "      <td>765</td>\n",
       "      <td>CESAREAN SECTION W CC/MCC</td>\n",
       "      <td>NaN</td>\n",
       "      <td>NaN</td>\n",
       "    </tr>\n",
       "    <tr>\n",
       "      <th>3</th>\n",
       "      <td>11603789</td>\n",
       "      <td>24766658</td>\n",
       "      <td>APR</td>\n",
       "      <td>5401</td>\n",
       "      <td>Cesarean Delivery</td>\n",
       "      <td>1.0</td>\n",
       "      <td>1.0</td>\n",
       "    </tr>\n",
       "    <tr>\n",
       "      <th>5</th>\n",
       "      <td>11603789</td>\n",
       "      <td>24766658</td>\n",
       "      <td>HCFA</td>\n",
       "      <td>766</td>\n",
       "      <td>CESAREAN SECTION W/O CC/MCC</td>\n",
       "      <td>NaN</td>\n",
       "      <td>NaN</td>\n",
       "    </tr>\n",
       "    <tr>\n",
       "      <th>6</th>\n",
       "      <td>11603789</td>\n",
       "      <td>20536278</td>\n",
       "      <td>APR</td>\n",
       "      <td>5401</td>\n",
       "      <td>Cesarean Delivery</td>\n",
       "      <td>1.0</td>\n",
       "      <td>1.0</td>\n",
       "    </tr>\n",
       "  </tbody>\n",
       "</table>\n",
       "</div>"
      ],
      "text/plain": [
       "   subject_id   hadm_id drg_type  drg_code                  description  \\\n",
       "0    11603789  25552978      APR      5402            Cesarean Delivery   \n",
       "2    11603789  25552978     HCFA       765    CESAREAN SECTION W CC/MCC   \n",
       "3    11603789  24766658      APR      5401            Cesarean Delivery   \n",
       "5    11603789  24766658     HCFA       766  CESAREAN SECTION W/O CC/MCC   \n",
       "6    11603789  20536278      APR      5401            Cesarean Delivery   \n",
       "\n",
       "   drg_severity  drg_mortality  \n",
       "0           2.0            1.0  \n",
       "2           NaN            NaN  \n",
       "3           1.0            1.0  \n",
       "5           NaN            NaN  \n",
       "6           1.0            1.0  "
      ]
     },
     "execution_count": 189,
     "metadata": {},
     "output_type": "execute_result"
    }
   ],
   "source": [
    "drg.head()"
   ]
  },
  {
   "cell_type": "code",
   "execution_count": 204,
   "metadata": {},
   "outputs": [
    {
     "data": {
      "text/plain": [
       "Heart Failure                                                      7323\n",
       "Septicemia & Disseminated Infections                               6557\n",
       "Other Pneumonia                                                    4053\n",
       "Chemotherapy                                                       3375\n",
       "Renal Failure                                                      3350\n",
       "Kidney & Urinary Tract Infections                                  3223\n",
       "Other Digestive System Diagnoses                                   2719\n",
       "Cardiac Arrhythmia & Conduction Disorders                          2634\n",
       "Percutaneous Cardiovascular Procedures w/o AMI                     2529\n",
       "Cellulitis & Other Bacterial Skin Infections                       2490\n",
       "Other Vascular Procedures                                          2306\n",
       "CVA & Precerebral Occulusion w/ Infarct                            2193\n",
       "Chronic Obstructive Pulmonary Disease                              2134\n",
       "Seizure                                                            2016\n",
       "Non-Bacterial Gastroenteritis, Nausea & Vomiting                   2010\n",
       "Major Small & Large Bowel Procedures                               2002\n",
       "Disorders of Pancreas Except Malignancy                            1944\n",
       "Malfunction, Reaction & Complic of Genitourinary Device Or Proc    1745\n",
       "Diabetes                                                           1683\n",
       "Post-Operative, Post-Traumatic, Other Device Infections            1672\n",
       "Name: description, dtype: int64"
      ]
     },
     "execution_count": 204,
     "metadata": {},
     "output_type": "execute_result"
    }
   ],
   "source": [
    "drg[drg.drg_type=='APR'].description.value_counts()[:20]"
   ]
  },
  {
   "cell_type": "markdown",
   "metadata": {},
   "source": [
    "## Medication"
   ]
  },
  {
   "cell_type": "code",
   "execution_count": 198,
   "metadata": {},
   "outputs": [],
   "source": [
    "# emar.csv.gz, emar_detail.csv.gz\n",
    "# pharmacy.csv.gz \n",
    "# poe.csv.gz poe_detail.csv.gz\n",
    "# prescriptions.csv.gz"
   ]
  },
  {
   "cell_type": "markdown",
   "metadata": {},
   "source": [
    "### We can use 'poe' to only focus on specific 'hadm_id' / time "
   ]
  },
  {
   "cell_type": "code",
   "execution_count": 246,
   "metadata": {},
   "outputs": [],
   "source": [
    "poe = pd.read_csv(hosp / 'poe.csv.gz', header=0, sep=',').merge(cxr).drop_duplicates()"
   ]
  },
  {
   "cell_type": "code",
   "execution_count": 255,
   "metadata": {},
   "outputs": [
    {
     "data": {
      "text/plain": [
       "array(['Medications', 'Lab', 'Radiology', 'Cardiology', 'Nutrition',\n",
       "       'General Care', 'IV therapy', 'ADT orders', 'Blood Bank',\n",
       "       'Consults', 'Respiratory', 'Critical Care', 'TPN', 'Hemodialysis',\n",
       "       'Neurology', 'OB'], dtype=object)"
      ]
     },
     "execution_count": 255,
     "metadata": {},
     "output_type": "execute_result"
    }
   ],
   "source": [
    "poe.order_type.unique()"
   ]
  },
  {
   "cell_type": "code",
   "execution_count": 250,
   "metadata": {},
   "outputs": [
    {
     "data": {
      "text/plain": [
       "array(['General Xray', 'Ultrasound', 'CT Scan', 'Nuclear Med',\n",
       "       'Noninvasive Vascular', 'MRI', 'Interventional Radiology', 'Angio',\n",
       "       'Cross-Sectional Interventional Radiology', 'Interventional Neuro',\n",
       "       nan], dtype=object)"
      ]
     },
     "execution_count": 250,
     "metadata": {},
     "output_type": "execute_result"
    }
   ],
   "source": [
    "poe[poe.order_type == 'Radiology'].order_subtype.unique()"
   ]
  },
  {
   "cell_type": "code",
   "execution_count": 252,
   "metadata": {},
   "outputs": [
    {
     "data": {
      "text/plain": [
       "(54011,)"
      ]
     },
     "execution_count": 252,
     "metadata": {},
     "output_type": "execute_result"
    }
   ],
   "source": [
    "poe.subject_id.unique().shape"
   ]
  },
  {
   "cell_type": "code",
   "execution_count": 254,
   "metadata": {},
   "outputs": [
    {
     "data": {
      "text/plain": [
       "(50453,)"
      ]
     },
     "execution_count": 254,
     "metadata": {},
     "output_type": "execute_result"
    }
   ],
   "source": [
    "poe[poe.order_type == 'Radiology'].subject_id.unique().shape"
   ]
  },
  {
   "cell_type": "code",
   "execution_count": 256,
   "metadata": {},
   "outputs": [
    {
     "data": {
      "text/plain": [
       "(48260,)"
      ]
     },
     "execution_count": 256,
     "metadata": {},
     "output_type": "execute_result"
    }
   ],
   "source": [
    "poe[poe.order_subtype == 'General Xray'].subject_id.unique().shape"
   ]
  },
  {
   "cell_type": "markdown",
   "metadata": {},
   "source": [
    "## Lab measurements"
   ]
  },
  {
   "cell_type": "markdown",
   "metadata": {},
   "source": [
    "### Probably a good option is to choose top-n common lab measurements at the same time of chest x-ray prescription."
   ]
  },
  {
   "cell_type": "code",
   "execution_count": 234,
   "metadata": {},
   "outputs": [],
   "source": [
    "lab_items = pd.read_csv(hosp / 'd_labitems.csv.gz', header=0, sep=',') "
   ]
  },
  {
   "cell_type": "code",
   "execution_count": 306,
   "metadata": {},
   "outputs": [],
   "source": [
    "# lab_items.dropna()[lab_items.dropna().label.str.contains('ox', case=False)]"
   ]
  },
  {
   "cell_type": "code",
   "execution_count": 282,
   "metadata": {},
   "outputs": [
    {
     "data": {
      "text/plain": [
       "array(['Other Body Fluid', 'Blood', 'Urine', 'Stool', 'Bone Marrow',\n",
       "       'Ascites', 'Cerebrospinal Fluid', 'Joint Fluid', 'Pleural',\n",
       "       'Fluid', 'I', 'Q'], dtype=object)"
      ]
     },
     "execution_count": 282,
     "metadata": {},
     "output_type": "execute_result"
    }
   ],
   "source": [
    "lab_items.fluid.unique()"
   ]
  },
  {
   "cell_type": "code",
   "execution_count": 219,
   "metadata": {},
   "outputs": [],
   "source": [
    "lab = pd.read_csv(hosp / 'labevents.csv.gz', header=0, sep=',', chunksize=10000)"
   ]
  },
  {
   "cell_type": "code",
   "execution_count": 307,
   "metadata": {},
   "outputs": [],
   "source": [
    "cnt = 0\n",
    "for chunck in lab:\n",
    "    sample = chunck\n",
    "    break"
   ]
  },
  {
   "cell_type": "code",
   "execution_count": 312,
   "metadata": {},
   "outputs": [
    {
     "data": {
      "text/html": [
       "<div>\n",
       "<style scoped>\n",
       "    .dataframe tbody tr th:only-of-type {\n",
       "        vertical-align: middle;\n",
       "    }\n",
       "\n",
       "    .dataframe tbody tr th {\n",
       "        vertical-align: top;\n",
       "    }\n",
       "\n",
       "    .dataframe thead th {\n",
       "        text-align: right;\n",
       "    }\n",
       "</style>\n",
       "<table border=\"1\" class=\"dataframe\">\n",
       "  <thead>\n",
       "    <tr style=\"text-align: right;\">\n",
       "      <th></th>\n",
       "      <th>labevent_id</th>\n",
       "      <th>subject_id</th>\n",
       "      <th>hadm_id</th>\n",
       "      <th>specimen_id</th>\n",
       "      <th>itemid</th>\n",
       "      <th>charttime</th>\n",
       "      <th>storetime</th>\n",
       "      <th>value</th>\n",
       "      <th>valuenum</th>\n",
       "      <th>valueuom</th>\n",
       "      <th>ref_range_lower</th>\n",
       "      <th>ref_range_upper</th>\n",
       "      <th>flag</th>\n",
       "      <th>priority</th>\n",
       "      <th>comments</th>\n",
       "    </tr>\n",
       "  </thead>\n",
       "  <tbody>\n",
       "    <tr>\n",
       "      <th>98280000</th>\n",
       "      <td>88229880</td>\n",
       "      <td>17092962</td>\n",
       "      <td>27938771.0</td>\n",
       "      <td>47706922</td>\n",
       "      <td>50863</td>\n",
       "      <td>2116-07-13 05:00:00</td>\n",
       "      <td>2116-07-13 08:13:00</td>\n",
       "      <td>70</td>\n",
       "      <td>70.0</td>\n",
       "      <td>IU/L</td>\n",
       "      <td>35.0</td>\n",
       "      <td>105.0</td>\n",
       "      <td>NaN</td>\n",
       "      <td>ROUTINE</td>\n",
       "      <td>NaN</td>\n",
       "    </tr>\n",
       "    <tr>\n",
       "      <th>98280001</th>\n",
       "      <td>88229881</td>\n",
       "      <td>17092962</td>\n",
       "      <td>27938771.0</td>\n",
       "      <td>47706922</td>\n",
       "      <td>50868</td>\n",
       "      <td>2116-07-13 05:00:00</td>\n",
       "      <td>2116-07-13 06:22:00</td>\n",
       "      <td>16</td>\n",
       "      <td>16.0</td>\n",
       "      <td>mEq/L</td>\n",
       "      <td>8.0</td>\n",
       "      <td>20.0</td>\n",
       "      <td>NaN</td>\n",
       "      <td>ROUTINE</td>\n",
       "      <td>NaN</td>\n",
       "    </tr>\n",
       "    <tr>\n",
       "      <th>98280002</th>\n",
       "      <td>88229882</td>\n",
       "      <td>17092962</td>\n",
       "      <td>27938771.0</td>\n",
       "      <td>47706922</td>\n",
       "      <td>50878</td>\n",
       "      <td>2116-07-13 05:00:00</td>\n",
       "      <td>2116-07-13 08:13:00</td>\n",
       "      <td>18</td>\n",
       "      <td>18.0</td>\n",
       "      <td>IU/L</td>\n",
       "      <td>0.0</td>\n",
       "      <td>40.0</td>\n",
       "      <td>NaN</td>\n",
       "      <td>ROUTINE</td>\n",
       "      <td>NaN</td>\n",
       "    </tr>\n",
       "    <tr>\n",
       "      <th>98280003</th>\n",
       "      <td>88229883</td>\n",
       "      <td>17092962</td>\n",
       "      <td>27938771.0</td>\n",
       "      <td>47706922</td>\n",
       "      <td>50882</td>\n",
       "      <td>2116-07-13 05:00:00</td>\n",
       "      <td>2116-07-13 06:22:00</td>\n",
       "      <td>23</td>\n",
       "      <td>23.0</td>\n",
       "      <td>mEq/L</td>\n",
       "      <td>22.0</td>\n",
       "      <td>32.0</td>\n",
       "      <td>NaN</td>\n",
       "      <td>ROUTINE</td>\n",
       "      <td>NaN</td>\n",
       "    </tr>\n",
       "    <tr>\n",
       "      <th>98280004</th>\n",
       "      <td>88229884</td>\n",
       "      <td>17092962</td>\n",
       "      <td>27938771.0</td>\n",
       "      <td>47706922</td>\n",
       "      <td>50885</td>\n",
       "      <td>2116-07-13 05:00:00</td>\n",
       "      <td>2116-07-13 08:13:00</td>\n",
       "      <td>0.5</td>\n",
       "      <td>0.5</td>\n",
       "      <td>mg/dL</td>\n",
       "      <td>0.0</td>\n",
       "      <td>1.5</td>\n",
       "      <td>NaN</td>\n",
       "      <td>ROUTINE</td>\n",
       "      <td>NaN</td>\n",
       "    </tr>\n",
       "  </tbody>\n",
       "</table>\n",
       "</div>"
      ],
      "text/plain": [
       "          labevent_id  subject_id     hadm_id  specimen_id  itemid  \\\n",
       "98280000     88229880    17092962  27938771.0     47706922   50863   \n",
       "98280001     88229881    17092962  27938771.0     47706922   50868   \n",
       "98280002     88229882    17092962  27938771.0     47706922   50878   \n",
       "98280003     88229883    17092962  27938771.0     47706922   50882   \n",
       "98280004     88229884    17092962  27938771.0     47706922   50885   \n",
       "\n",
       "                    charttime            storetime value  valuenum valueuom  \\\n",
       "98280000  2116-07-13 05:00:00  2116-07-13 08:13:00    70      70.0     IU/L   \n",
       "98280001  2116-07-13 05:00:00  2116-07-13 06:22:00    16      16.0    mEq/L   \n",
       "98280002  2116-07-13 05:00:00  2116-07-13 08:13:00    18      18.0     IU/L   \n",
       "98280003  2116-07-13 05:00:00  2116-07-13 06:22:00    23      23.0    mEq/L   \n",
       "98280004  2116-07-13 05:00:00  2116-07-13 08:13:00   0.5       0.5    mg/dL   \n",
       "\n",
       "          ref_range_lower  ref_range_upper flag priority comments  \n",
       "98280000             35.0            105.0  NaN  ROUTINE      NaN  \n",
       "98280001              8.0             20.0  NaN  ROUTINE      NaN  \n",
       "98280002              0.0             40.0  NaN  ROUTINE      NaN  \n",
       "98280003             22.0             32.0  NaN  ROUTINE      NaN  \n",
       "98280004              0.0              1.5  NaN  ROUTINE      NaN  "
      ]
     },
     "execution_count": 312,
     "metadata": {},
     "output_type": "execute_result"
    }
   ],
   "source": [
    "sample.head()"
   ]
  },
  {
   "cell_type": "code",
   "execution_count": 340,
   "metadata": {},
   "outputs": [
    {
     "data": {
      "text/plain": [
       "0.25"
      ]
     },
     "execution_count": 340,
     "metadata": {},
     "output_type": "execute_result"
    }
   ],
   "source": [
    "sample.merge(cxr).subject_id.unique().shape[0] / sample.subject_id.unique().shape[0] "
   ]
  },
  {
   "cell_type": "code",
   "execution_count": 309,
   "metadata": {},
   "outputs": [
    {
     "data": {
      "text/html": [
       "<div>\n",
       "<style scoped>\n",
       "    .dataframe tbody tr th:only-of-type {\n",
       "        vertical-align: middle;\n",
       "    }\n",
       "\n",
       "    .dataframe tbody tr th {\n",
       "        vertical-align: top;\n",
       "    }\n",
       "\n",
       "    .dataframe thead th {\n",
       "        text-align: right;\n",
       "    }\n",
       "</style>\n",
       "<table border=\"1\" class=\"dataframe\">\n",
       "  <thead>\n",
       "    <tr style=\"text-align: right;\">\n",
       "      <th></th>\n",
       "      <th>itemid</th>\n",
       "      <th>label</th>\n",
       "      <th>fluid</th>\n",
       "      <th>category</th>\n",
       "      <th>loinc_code</th>\n",
       "    </tr>\n",
       "  </thead>\n",
       "  <tbody>\n",
       "    <tr>\n",
       "      <th>512</th>\n",
       "      <td>50912</td>\n",
       "      <td>Creatinine</td>\n",
       "      <td>Blood</td>\n",
       "      <td>Chemistry</td>\n",
       "      <td>2160-0</td>\n",
       "    </tr>\n",
       "    <tr>\n",
       "      <th>761</th>\n",
       "      <td>51221</td>\n",
       "      <td>Hematocrit</td>\n",
       "      <td>Blood</td>\n",
       "      <td>Hematology</td>\n",
       "      <td>4544-3</td>\n",
       "    </tr>\n",
       "    <tr>\n",
       "      <th>771</th>\n",
       "      <td>51222</td>\n",
       "      <td>Hemoglobin</td>\n",
       "      <td>Blood</td>\n",
       "      <td>Hematology</td>\n",
       "      <td>718-7</td>\n",
       "    </tr>\n",
       "    <tr>\n",
       "      <th>1013</th>\n",
       "      <td>51248</td>\n",
       "      <td>MCH</td>\n",
       "      <td>Blood</td>\n",
       "      <td>Hematology</td>\n",
       "      <td>785-6</td>\n",
       "    </tr>\n",
       "    <tr>\n",
       "      <th>1014</th>\n",
       "      <td>51249</td>\n",
       "      <td>MCHC</td>\n",
       "      <td>Blood</td>\n",
       "      <td>Hematology</td>\n",
       "      <td>786-4</td>\n",
       "    </tr>\n",
       "    <tr>\n",
       "      <th>1016</th>\n",
       "      <td>51250</td>\n",
       "      <td>MCV</td>\n",
       "      <td>Blood</td>\n",
       "      <td>Hematology</td>\n",
       "      <td>787-2</td>\n",
       "    </tr>\n",
       "    <tr>\n",
       "      <th>1211</th>\n",
       "      <td>51265</td>\n",
       "      <td>Platelet Count</td>\n",
       "      <td>Blood</td>\n",
       "      <td>Hematology</td>\n",
       "      <td>777-3</td>\n",
       "    </tr>\n",
       "    <tr>\n",
       "      <th>1307</th>\n",
       "      <td>51277</td>\n",
       "      <td>RDW</td>\n",
       "      <td>Blood</td>\n",
       "      <td>Hematology</td>\n",
       "      <td>788-0</td>\n",
       "    </tr>\n",
       "    <tr>\n",
       "      <th>1312</th>\n",
       "      <td>51279</td>\n",
       "      <td>Red Blood Cells</td>\n",
       "      <td>Blood</td>\n",
       "      <td>Hematology</td>\n",
       "      <td>789-8</td>\n",
       "    </tr>\n",
       "    <tr>\n",
       "      <th>1598</th>\n",
       "      <td>51301</td>\n",
       "      <td>White Blood Cells</td>\n",
       "      <td>Blood</td>\n",
       "      <td>Hematology</td>\n",
       "      <td>804-5</td>\n",
       "    </tr>\n",
       "  </tbody>\n",
       "</table>\n",
       "</div>"
      ],
      "text/plain": [
       "      itemid              label  fluid    category loinc_code\n",
       "512    50912         Creatinine  Blood   Chemistry     2160-0\n",
       "761    51221         Hematocrit  Blood  Hematology     4544-3\n",
       "771    51222         Hemoglobin  Blood  Hematology      718-7\n",
       "1013   51248                MCH  Blood  Hematology      785-6\n",
       "1014   51249               MCHC  Blood  Hematology      786-4\n",
       "1016   51250                MCV  Blood  Hematology      787-2\n",
       "1211   51265     Platelet Count  Blood  Hematology      777-3\n",
       "1307   51277                RDW  Blood  Hematology      788-0\n",
       "1312   51279    Red Blood Cells  Blood  Hematology      789-8\n",
       "1598   51301  White Blood Cells  Blood  Hematology      804-5"
      ]
     },
     "execution_count": 309,
     "metadata": {},
     "output_type": "execute_result"
    }
   ],
   "source": [
    "lab_items[lab_items.itemid.isin((sample.itemid.value_counts()[:10]).index)]"
   ]
  },
  {
   "cell_type": "code",
   "execution_count": null,
   "metadata": {},
   "outputs": [],
   "source": []
  },
  {
   "cell_type": "markdown",
   "metadata": {},
   "source": [
    "## Microbiology"
   ]
  },
  {
   "cell_type": "code",
   "execution_count": 327,
   "metadata": {},
   "outputs": [],
   "source": [
    "# checks for infectious growth\n",
    "micro = pd.read_csv(hosp / 'microbiologyevents.csv.gz', header=0, sep=',', low_memory=False).merge(cxr)"
   ]
  },
  {
   "cell_type": "code",
   "execution_count": 323,
   "metadata": {},
   "outputs": [
    {
     "data": {
      "text/plain": [
       "(28582,)"
      ]
     },
     "execution_count": 323,
     "metadata": {},
     "output_type": "execute_result"
    }
   ],
   "source": [
    "micro.subject_id.unique().shape"
   ]
  },
  {
   "cell_type": "code",
   "execution_count": 325,
   "metadata": {},
   "outputs": [
    {
     "data": {
      "text/html": [
       "<div>\n",
       "<style scoped>\n",
       "    .dataframe tbody tr th:only-of-type {\n",
       "        vertical-align: middle;\n",
       "    }\n",
       "\n",
       "    .dataframe tbody tr th {\n",
       "        vertical-align: top;\n",
       "    }\n",
       "\n",
       "    .dataframe thead th {\n",
       "        text-align: right;\n",
       "    }\n",
       "</style>\n",
       "<table border=\"1\" class=\"dataframe\">\n",
       "  <thead>\n",
       "    <tr style=\"text-align: right;\">\n",
       "      <th></th>\n",
       "      <th>microevent_id</th>\n",
       "      <th>subject_id</th>\n",
       "      <th>hadm_id</th>\n",
       "      <th>micro_specimen_id</th>\n",
       "      <th>chartdate</th>\n",
       "      <th>charttime</th>\n",
       "      <th>spec_itemid</th>\n",
       "      <th>spec_type_desc</th>\n",
       "      <th>test_seq</th>\n",
       "      <th>storedate</th>\n",
       "      <th>...</th>\n",
       "      <th>org_name</th>\n",
       "      <th>isolate_num</th>\n",
       "      <th>quantity</th>\n",
       "      <th>ab_itemid</th>\n",
       "      <th>ab_name</th>\n",
       "      <th>dilution_text</th>\n",
       "      <th>dilution_comparison</th>\n",
       "      <th>dilution_value</th>\n",
       "      <th>interpretation</th>\n",
       "      <th>comments</th>\n",
       "    </tr>\n",
       "  </thead>\n",
       "  <tbody>\n",
       "    <tr>\n",
       "      <th>0</th>\n",
       "      <td>1562</td>\n",
       "      <td>10004235</td>\n",
       "      <td>NaN</td>\n",
       "      <td>139903</td>\n",
       "      <td>2196-02-24 00:00:00</td>\n",
       "      <td>2196-02-24 12:40:00</td>\n",
       "      <td>70012</td>\n",
       "      <td>BLOOD CULTURE</td>\n",
       "      <td>1</td>\n",
       "      <td>2196-02-27 00:00:00</td>\n",
       "      <td>...</td>\n",
       "      <td>ESCHERICHIA COLI</td>\n",
       "      <td>1.0</td>\n",
       "      <td>NaN</td>\n",
       "      <td>90013.0</td>\n",
       "      <td>TOBRAMYCIN</td>\n",
       "      <td>&lt;=1</td>\n",
       "      <td>&lt;=</td>\n",
       "      <td>1.0</td>\n",
       "      <td>S</td>\n",
       "      <td>NaN</td>\n",
       "    </tr>\n",
       "    <tr>\n",
       "      <th>1</th>\n",
       "      <td>1558</td>\n",
       "      <td>10004235</td>\n",
       "      <td>NaN</td>\n",
       "      <td>139903</td>\n",
       "      <td>2196-02-24 00:00:00</td>\n",
       "      <td>2196-02-24 12:40:00</td>\n",
       "      <td>70012</td>\n",
       "      <td>BLOOD CULTURE</td>\n",
       "      <td>1</td>\n",
       "      <td>2196-02-27 00:00:00</td>\n",
       "      <td>...</td>\n",
       "      <td>ESCHERICHIA COLI</td>\n",
       "      <td>1.0</td>\n",
       "      <td>NaN</td>\n",
       "      <td>90004.0</td>\n",
       "      <td>AMPICILLIN</td>\n",
       "      <td>8</td>\n",
       "      <td>=</td>\n",
       "      <td>8.0</td>\n",
       "      <td>S</td>\n",
       "      <td>NaN</td>\n",
       "    </tr>\n",
       "    <tr>\n",
       "      <th>2</th>\n",
       "      <td>1559</td>\n",
       "      <td>10004235</td>\n",
       "      <td>NaN</td>\n",
       "      <td>139903</td>\n",
       "      <td>2196-02-24 00:00:00</td>\n",
       "      <td>2196-02-24 12:40:00</td>\n",
       "      <td>70012</td>\n",
       "      <td>BLOOD CULTURE</td>\n",
       "      <td>1</td>\n",
       "      <td>2196-02-27 00:00:00</td>\n",
       "      <td>...</td>\n",
       "      <td>ESCHERICHIA COLI</td>\n",
       "      <td>1.0</td>\n",
       "      <td>NaN</td>\n",
       "      <td>90005.0</td>\n",
       "      <td>CEFAZOLIN</td>\n",
       "      <td>&lt;=4</td>\n",
       "      <td>&lt;=</td>\n",
       "      <td>4.0</td>\n",
       "      <td>S</td>\n",
       "      <td>NaN</td>\n",
       "    </tr>\n",
       "    <tr>\n",
       "      <th>3</th>\n",
       "      <td>1560</td>\n",
       "      <td>10004235</td>\n",
       "      <td>NaN</td>\n",
       "      <td>139903</td>\n",
       "      <td>2196-02-24 00:00:00</td>\n",
       "      <td>2196-02-24 12:40:00</td>\n",
       "      <td>70012</td>\n",
       "      <td>BLOOD CULTURE</td>\n",
       "      <td>1</td>\n",
       "      <td>2196-02-27 00:00:00</td>\n",
       "      <td>...</td>\n",
       "      <td>ESCHERICHIA COLI</td>\n",
       "      <td>1.0</td>\n",
       "      <td>NaN</td>\n",
       "      <td>90008.0</td>\n",
       "      <td>TRIMETHOPRIM/SULFA</td>\n",
       "      <td>&lt;=1</td>\n",
       "      <td>&lt;=</td>\n",
       "      <td>1.0</td>\n",
       "      <td>S</td>\n",
       "      <td>NaN</td>\n",
       "    </tr>\n",
       "    <tr>\n",
       "      <th>4</th>\n",
       "      <td>1561</td>\n",
       "      <td>10004235</td>\n",
       "      <td>NaN</td>\n",
       "      <td>139903</td>\n",
       "      <td>2196-02-24 00:00:00</td>\n",
       "      <td>2196-02-24 12:40:00</td>\n",
       "      <td>70012</td>\n",
       "      <td>BLOOD CULTURE</td>\n",
       "      <td>1</td>\n",
       "      <td>2196-02-27 00:00:00</td>\n",
       "      <td>...</td>\n",
       "      <td>ESCHERICHIA COLI</td>\n",
       "      <td>1.0</td>\n",
       "      <td>NaN</td>\n",
       "      <td>90012.0</td>\n",
       "      <td>GENTAMICIN</td>\n",
       "      <td>&lt;=1</td>\n",
       "      <td>&lt;=</td>\n",
       "      <td>1.0</td>\n",
       "      <td>S</td>\n",
       "      <td>NaN</td>\n",
       "    </tr>\n",
       "  </tbody>\n",
       "</table>\n",
       "<p>5 rows × 24 columns</p>\n",
       "</div>"
      ],
      "text/plain": [
       "   microevent_id  subject_id  hadm_id  micro_specimen_id            chartdate  \\\n",
       "0           1562    10004235      NaN             139903  2196-02-24 00:00:00   \n",
       "1           1558    10004235      NaN             139903  2196-02-24 00:00:00   \n",
       "2           1559    10004235      NaN             139903  2196-02-24 00:00:00   \n",
       "3           1560    10004235      NaN             139903  2196-02-24 00:00:00   \n",
       "4           1561    10004235      NaN             139903  2196-02-24 00:00:00   \n",
       "\n",
       "             charttime  spec_itemid spec_type_desc  test_seq  \\\n",
       "0  2196-02-24 12:40:00        70012  BLOOD CULTURE         1   \n",
       "1  2196-02-24 12:40:00        70012  BLOOD CULTURE         1   \n",
       "2  2196-02-24 12:40:00        70012  BLOOD CULTURE         1   \n",
       "3  2196-02-24 12:40:00        70012  BLOOD CULTURE         1   \n",
       "4  2196-02-24 12:40:00        70012  BLOOD CULTURE         1   \n",
       "\n",
       "             storedate  ...          org_name  isolate_num quantity  \\\n",
       "0  2196-02-27 00:00:00  ...  ESCHERICHIA COLI          1.0      NaN   \n",
       "1  2196-02-27 00:00:00  ...  ESCHERICHIA COLI          1.0      NaN   \n",
       "2  2196-02-27 00:00:00  ...  ESCHERICHIA COLI          1.0      NaN   \n",
       "3  2196-02-27 00:00:00  ...  ESCHERICHIA COLI          1.0      NaN   \n",
       "4  2196-02-27 00:00:00  ...  ESCHERICHIA COLI          1.0      NaN   \n",
       "\n",
       "   ab_itemid             ab_name  dilution_text dilution_comparison  \\\n",
       "0    90013.0          TOBRAMYCIN            <=1          <=           \n",
       "1    90004.0          AMPICILLIN              8          =            \n",
       "2    90005.0           CEFAZOLIN            <=4          <=           \n",
       "3    90008.0  TRIMETHOPRIM/SULFA            <=1          <=           \n",
       "4    90012.0          GENTAMICIN            <=1          <=           \n",
       "\n",
       "   dilution_value interpretation comments  \n",
       "0             1.0              S      NaN  \n",
       "1             8.0              S      NaN  \n",
       "2             4.0              S      NaN  \n",
       "3             1.0              S      NaN  \n",
       "4             1.0              S      NaN  \n",
       "\n",
       "[5 rows x 24 columns]"
      ]
     },
     "execution_count": 325,
     "metadata": {},
     "output_type": "execute_result"
    }
   ],
   "source": [
    "micro.head()"
   ]
  },
  {
   "cell_type": "markdown",
   "metadata": {},
   "source": [
    "## ICU"
   ]
  },
  {
   "cell_type": "markdown",
   "metadata": {},
   "source": [
    "### Which ICU measurements should we use?"
   ]
  },
  {
   "cell_type": "code",
   "execution_count": 329,
   "metadata": {},
   "outputs": [
    {
     "name": "stdout",
     "output_type": "stream",
     "text": [
      "total 2.6G\n",
      "-rw------- 1 vahid rahulgkgrp 2.2G Aug 13  2020 chartevents.csv.gz\n",
      "-rw------- 1 vahid rahulgkgrp  39M Aug 13  2020 datetimeevents.csv.gz\n",
      "-rw------- 1 vahid rahulgkgrp  56K Aug 13  2020 d_items.csv.gz\n",
      "-rw------- 1 vahid rahulgkgrp 2.6M Aug 13  2020 icustays.csv.gz\n",
      "-rw------- 1 vahid rahulgkgrp 1.1K Oct 21 22:32 index.html\n",
      "-rw------- 1 vahid rahulgkgrp 314M Aug 13  2020 inputevents.csv.gz\n",
      "-rw------- 1 vahid rahulgkgrp  34M Aug 13  2020 outputevents.csv.gz\n",
      "-rw------- 1 vahid rahulgkgrp  19M Aug 13  2020 procedureevents.csv.gz\n"
     ]
    }
   ],
   "source": [
    "! ls -lh $icu"
   ]
  },
  {
   "cell_type": "code",
   "execution_count": 331,
   "metadata": {},
   "outputs": [],
   "source": [
    "d_items = pd.read_csv(icu / 'd_items.csv.gz', header=0, sep=',')"
   ]
  },
  {
   "cell_type": "code",
   "execution_count": 354,
   "metadata": {},
   "outputs": [
    {
     "data": {
      "text/html": [
       "<div>\n",
       "<style scoped>\n",
       "    .dataframe tbody tr th:only-of-type {\n",
       "        vertical-align: middle;\n",
       "    }\n",
       "\n",
       "    .dataframe tbody tr th {\n",
       "        vertical-align: top;\n",
       "    }\n",
       "\n",
       "    .dataframe thead th {\n",
       "        text-align: right;\n",
       "    }\n",
       "</style>\n",
       "<table border=\"1\" class=\"dataframe\">\n",
       "  <thead>\n",
       "    <tr style=\"text-align: right;\">\n",
       "      <th></th>\n",
       "      <th>itemid</th>\n",
       "      <th>label</th>\n",
       "      <th>abbreviation</th>\n",
       "      <th>linksto</th>\n",
       "      <th>category</th>\n",
       "      <th>unitname</th>\n",
       "      <th>param_type</th>\n",
       "      <th>lownormalvalue</th>\n",
       "      <th>highnormalvalue</th>\n",
       "    </tr>\n",
       "  </thead>\n",
       "  <tbody>\n",
       "    <tr>\n",
       "      <th>0</th>\n",
       "      <td>220003</td>\n",
       "      <td>ICU Admission date</td>\n",
       "      <td>ICU Admission date</td>\n",
       "      <td>datetimeevents</td>\n",
       "      <td>ADT</td>\n",
       "      <td>NaN</td>\n",
       "      <td>Date and time</td>\n",
       "      <td>NaN</td>\n",
       "      <td>NaN</td>\n",
       "    </tr>\n",
       "    <tr>\n",
       "      <th>1</th>\n",
       "      <td>220045</td>\n",
       "      <td>Heart Rate</td>\n",
       "      <td>HR</td>\n",
       "      <td>chartevents</td>\n",
       "      <td>Routine Vital Signs</td>\n",
       "      <td>bpm</td>\n",
       "      <td>Numeric</td>\n",
       "      <td>NaN</td>\n",
       "      <td>NaN</td>\n",
       "    </tr>\n",
       "    <tr>\n",
       "      <th>2</th>\n",
       "      <td>220046</td>\n",
       "      <td>Heart rate Alarm - High</td>\n",
       "      <td>HR Alarm - High</td>\n",
       "      <td>chartevents</td>\n",
       "      <td>Alarms</td>\n",
       "      <td>bpm</td>\n",
       "      <td>Numeric</td>\n",
       "      <td>NaN</td>\n",
       "      <td>NaN</td>\n",
       "    </tr>\n",
       "    <tr>\n",
       "      <th>3</th>\n",
       "      <td>220047</td>\n",
       "      <td>Heart Rate Alarm - Low</td>\n",
       "      <td>HR Alarm - Low</td>\n",
       "      <td>chartevents</td>\n",
       "      <td>Alarms</td>\n",
       "      <td>bpm</td>\n",
       "      <td>Numeric</td>\n",
       "      <td>NaN</td>\n",
       "      <td>NaN</td>\n",
       "    </tr>\n",
       "    <tr>\n",
       "      <th>4</th>\n",
       "      <td>220048</td>\n",
       "      <td>Heart Rhythm</td>\n",
       "      <td>Heart Rhythm</td>\n",
       "      <td>chartevents</td>\n",
       "      <td>Routine Vital Signs</td>\n",
       "      <td>NaN</td>\n",
       "      <td>Text</td>\n",
       "      <td>NaN</td>\n",
       "      <td>NaN</td>\n",
       "    </tr>\n",
       "  </tbody>\n",
       "</table>\n",
       "</div>"
      ],
      "text/plain": [
       "   itemid                    label        abbreviation         linksto  \\\n",
       "0  220003       ICU Admission date  ICU Admission date  datetimeevents   \n",
       "1  220045               Heart Rate                  HR     chartevents   \n",
       "2  220046  Heart rate Alarm - High     HR Alarm - High     chartevents   \n",
       "3  220047   Heart Rate Alarm - Low      HR Alarm - Low     chartevents   \n",
       "4  220048             Heart Rhythm        Heart Rhythm     chartevents   \n",
       "\n",
       "              category unitname     param_type  lownormalvalue  \\\n",
       "0                  ADT      NaN  Date and time             NaN   \n",
       "1  Routine Vital Signs      bpm        Numeric             NaN   \n",
       "2               Alarms      bpm        Numeric             NaN   \n",
       "3               Alarms      bpm        Numeric             NaN   \n",
       "4  Routine Vital Signs      NaN           Text             NaN   \n",
       "\n",
       "   highnormalvalue  \n",
       "0              NaN  \n",
       "1              NaN  \n",
       "2              NaN  \n",
       "3              NaN  \n",
       "4              NaN  "
      ]
     },
     "execution_count": 354,
     "metadata": {},
     "output_type": "execute_result"
    }
   ],
   "source": [
    "d_items.head()"
   ]
  },
  {
   "cell_type": "raw",
   "metadata": {},
   "source": []
  },
  {
   "cell_type": "code",
   "execution_count": 349,
   "metadata": {},
   "outputs": [],
   "source": [
    "# d_items[d_items.label.str.contains('oxygen', case=False)]"
   ]
  },
  {
   "cell_type": "code",
   "execution_count": 350,
   "metadata": {},
   "outputs": [],
   "source": [
    "datetimeevents = pd.read_csv(icu / 'datetimeevents.csv.gz', header=0, sep=',').merge(cxr)"
   ]
  },
  {
   "cell_type": "code",
   "execution_count": 337,
   "metadata": {},
   "outputs": [
    {
     "data": {
      "text/plain": [
       "(19914,)"
      ]
     },
     "execution_count": 337,
     "metadata": {},
     "output_type": "execute_result"
    }
   ],
   "source": [
    "datetimeevents.subject_id.unique().shape"
   ]
  },
  {
   "cell_type": "code",
   "execution_count": null,
   "metadata": {},
   "outputs": [],
   "source": []
  }
 ],
 "metadata": {
  "kernelspec": {
   "display_name": "Python 3",
   "language": "python",
   "name": "python3"
  },
  "language_info": {
   "codemirror_mode": {
    "name": "ipython",
    "version": 3
   },
   "file_extension": ".py",
   "mimetype": "text/x-python",
   "name": "python",
   "nbconvert_exporter": "python",
   "pygments_lexer": "ipython3",
   "version": "3.8.5"
  }
 },
 "nbformat": 4,
 "nbformat_minor": 4
}
